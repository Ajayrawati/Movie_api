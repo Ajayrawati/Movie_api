{
 "cells": [
  {
   "cell_type": "code",
   "execution_count": 1,
   "id": "2881d9ed",
   "metadata": {},
   "outputs": [],
   "source": [
    "import requests\n",
    "from bs4 import BeautifulSoup\n",
    "import json\n",
    "\n",
    "\n",
    "def format_imdb_url(url):\n",
    "    \"\"\"Ensure full IMDb URL\"\"\"\n",
    "    trimmed_url = url.split('?')[0]\n",
    "    if not trimmed_url.startswith(\"https://www.imdb.com/\"):\n",
    "        trimmed_url = \"https://www.imdb.com\" + trimmed_url\n",
    "    return trimmed_url\n",
    "\n",
    "\n",
    "def extract_next_page(url):\n",
    "    \"\"\"Fetch movie description from individual IMDb page\"\"\"\n",
    "    headers = {\n",
    "        'User-Agent': 'Mozilla/5.0 (Windows NT 10.0; Win64; x64)'\n",
    "    }\n",
    "    try:\n",
    "        response = requests.get(url, headers=headers, timeout=10)\n",
    "        soup = BeautifulSoup(response.content, 'html.parser')\n",
    "\n",
    "        # Try plot-l, then plot-xl (IMDb changes frequently)\n",
    "        description_tag = soup.find('span', {'data-testid': 'plot-l'})\n",
    "        if not description_tag:\n",
    "            description_tag = soup.find('span', {'data-testid': 'plot-xl'})\n",
    "\n",
    "        return description_tag.text.strip() if description_tag else 'No description available.'\n",
    "    except Exception as e:\n",
    "        return f\"Failed to fetch description: {str(e)}\"\n",
    "\n"
   ]
  },
  {
   "cell_type": "code",
   "execution_count": null,
   "id": "1861a85d",
   "metadata": {},
   "outputs": [],
   "source": []
  },
  {
   "cell_type": "code",
   "execution_count": null,
   "id": "38bb4342",
   "metadata": {},
   "outputs": [],
   "source": [
    "def extract_info(query):\n",
    "    \"\"\"Search IMDb and extract top movie results\"\"\"\n",
    "    headers = {\n",
    "        'User-Agent': 'Mozilla/5.0 (Windows NT 10.0; Win64; x64)'\n",
    "    }\n",
    "\n",
    "    # Construct search URL\n",
    "    search_url = f\"https://www.imdb.com/find/?q=inception\"\n",
    "    response = requests.get(search_url, headers=headers)\n",
    "    soup = BeautifulSoup(response.content, 'html.parser')\n",
    "\n",
    "    # IMDb results are in <li> with class 'ipc-metadata-list-summary-item'\n",
    "    results = soup.find_all('li', class_='ipc-metadata-list-summary-item')\n",
    "    extracted_data = []\n",
    "\n",
    "    for result in results[:5]:  # Limit to top 5\n",
    "        # Title\n",
    "        title_tag = result.find('a', class_='ipc-metadata-list-summary-item__t')\n",
    "        if not title_tag:\n",
    "            continue\n",
    "\n",
    "        title = title_tag.text.strip()\n",
    "        partial_url = title_tag['href']\n",
    "        full_url = format_imdb_url(partial_url)\n",
    "\n",
    "        # Year\n",
    "        year_tag = result.find('span', class_='ipc-metadata-list-summary-item__li')\n",
    "        year = year_tag.text.strip() if year_tag else \"Unknown\"\n",
    "\n",
    "        # Actors\n",
    "        actors = \"Unknown\"\n",
    "        actor_ul = result.find_all(\n",
    "            'ul',\n",
    "            class_='ipc-inline-list ipc-inline-list--show-dividers ipc-inline-list--no-wrap ipc-inline-list--inline ipc-metadata-list-summary-item__stl base'\n",
    "        )\n",
    "        if actor_ul:\n",
    "            actor_lis = actor_ul[0].find_all('li')\n",
    "            actors = \", \".join(li.text.strip() for li in actor_lis)\n",
    "\n",
    "        # Description from detail page\n",
    "        description = extract_next_page(full_url)\n",
    "\n",
    "        # Append all\n",
    "        extracted_data.append({\n",
    "            'title': title,\n",
    "            'url': full_url,\n",
    "            'year': year,\n",
    "            'actors': actors,\n",
    "            'description': description\n",
    "        })\n",
    "\n",
    "    return extracted_data\n"
   ]
  },
  {
   "cell_type": "code",
   "execution_count": 8,
   "id": "c3d7d1d5",
   "metadata": {},
   "outputs": [
    {
     "name": "stdout",
     "output_type": "stream",
     "text": [
      "https://www.imdb.com/find/?q=inception\n",
      "<a aria-disabled=\"false\" class=\"ipc-metadata-list-summary-item__t\" href=\"/title/tt1375666/?ref_=fn_all_ttl_1\" tabindex=\"0\">Inception</a>\n",
      "<a aria-disabled=\"false\" class=\"ipc-metadata-list-summary-item__t\" href=\"/title/tt1790736/?ref_=fn_all_ttl_2\" tabindex=\"0\">Inception: The Cobol Job</a>\n",
      "<a aria-disabled=\"false\" class=\"ipc-metadata-list-summary-item__t\" href=\"/title/tt7321322/?ref_=fn_all_ttl_3\" tabindex=\"0\">Inception</a>\n",
      "<a aria-disabled=\"false\" class=\"ipc-metadata-list-summary-item__t\" href=\"/title/tt5295990/?ref_=fn_all_ttl_4\" tabindex=\"0\">Inception: Jump Right Into the Action</a>\n",
      "<a aria-disabled=\"false\" class=\"ipc-metadata-list-summary-item__t\" href=\"/title/tt8269586/?ref_=fn_all_ttl_5\" tabindex=\"0\">Bikini Inception</a>\n",
      "[{'title': 'Inception', 'url': 'https://www.imdb.com/title/tt1375666/', 'year': '2010', 'actors': 'Leonardo DiCaprio, Joseph Gordon-Levitt', 'description': 'A thief who steals corporate secrets through the use of dream-sharing technology is given the inverse task of planting an idea into the mind of a C.E.O., but his tragic past may doom the project and his team to disaster.'}, {'title': 'Inception: The Cobol Job', 'url': 'https://www.imdb.com/title/tt1790736/', 'year': '2010', 'actors': 'Leonardo DiCaprio, Joseph Gordon-Levitt', 'description': 'This Inception prequel unfolds courtesy of a beautiful Motion Comic, and explains how Cobb, Arthur and Nash were enlisted by Cobol Engineering. Diehard fans of the film will be especially interested in this one.'}, {'title': 'Inception', 'url': 'https://www.imdb.com/title/tt7321322/', 'year': '2014', 'actors': 'Erfan Refahatnia, Danial Hajibarat', 'description': 'Young man (Erfan) wants to do something important,It has a lot of risk for him But he must make a decision,Though everyone around them opposes doing so,The boy decides that.'}, {'title': 'Inception: Jump Right Into the Action', 'url': 'https://www.imdb.com/title/tt5295990/', 'year': '2010', 'actors': 'Leonardo DiCaprio, Joseph Gordon-Levitt', 'description': 'Join filmmaker Christopher Nolan and his cast and crew as they reveal the secrets of Inception, its development, characters, performances, story and jaw-dropping special effects in this solid 14-segments piece.'}, {'title': 'Bikini Inception', 'url': 'https://www.imdb.com/title/tt8269586/', 'year': '2015', 'actors': 'Paizley Bishop, Byamba', 'description': 'Two Arctic Lab janitors perform unauthorized experiments transporting them to Malibu California with beautiful girls and a Brazilian PhD Student.'}]\n"
     ]
    }
   ],
   "source": [
    "extract_info(\"hi\")"
   ]
  },
  {
   "cell_type": "code",
   "execution_count": null,
   "id": "819ab172",
   "metadata": {},
   "outputs": [],
   "source": []
  }
 ],
 "metadata": {
  "kernelspec": {
   "display_name": "env",
   "language": "python",
   "name": "python3"
  },
  "language_info": {
   "codemirror_mode": {
    "name": "ipython",
    "version": 3
   },
   "file_extension": ".py",
   "mimetype": "text/x-python",
   "name": "python",
   "nbconvert_exporter": "python",
   "pygments_lexer": "ipython3",
   "version": "3.13.1"
  }
 },
 "nbformat": 4,
 "nbformat_minor": 5
}
